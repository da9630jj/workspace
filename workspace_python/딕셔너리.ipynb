{
 "cells": [
  {
   "cell_type": "code",
   "execution_count": null,
   "metadata": {},
   "outputs": [],
   "source": [
    "# 딕셔너리(Dictionary) \n",
    "# 여러 데이터가 key와 value의 쌍으로 저장한 데이터"
   ]
  },
  {
   "cell_type": "code",
   "execution_count": null,
   "metadata": {},
   "outputs": [],
   "source": [
    "# 빈 딕셔너리 생성\n",
    "dic1 = {}\n",
    "dic2 = {'name' : 'kim', 'age': 20}"
   ]
  },
  {
   "cell_type": "code",
   "execution_count": 1,
   "metadata": {},
   "outputs": [
    {
     "name": "stdout",
     "output_type": "stream",
     "text": [
      "{'stuNum': 3, 'stuName': 'hong'}\n"
     ]
    }
   ],
   "source": [
    "# 중복된 key값을 가질 수 없음\n",
    "dic3={\n",
    "  'stuNum': 1,\n",
    "  'stuName': 'hong',\n",
    "  'stuNum':3\n",
    "}\n",
    "print(dic3)"
   ]
  },
  {
   "cell_type": "code",
   "execution_count": 2,
   "metadata": {},
   "outputs": [
    {
     "name": "stdout",
     "output_type": "stream",
     "text": [
      "{'name': 'lee', 'age': 30}\n",
      "{'name': 'kim', 'age': 30}\n"
     ]
    }
   ],
   "source": [
    "# 데이터 추가\n",
    "# dic['key'] = value\n",
    "dic1={}\n",
    "dic1['name']='lee'\n",
    "dic1['age']=30\n",
    "print(dic1)\n",
    "\n",
    "# name이라는 key 값을 'kim'으로 변경\n",
    "dic1['name']='kim'\n",
    "print(dic1)"
   ]
  },
  {
   "cell_type": "code",
   "execution_count": 4,
   "metadata": {},
   "outputs": [
    {
     "name": "stdout",
     "output_type": "stream",
     "text": [
      "{'modleName': 'iPhone', 'price': 10000}\n"
     ]
    }
   ],
   "source": [
    "# 데이터 삭제\n",
    "phone ={\n",
    "  'modleName' : 'iPhone',\n",
    "  'price': 10000,\n",
    "  'color': 'white'\n",
    "}\n",
    "del phone['color']\n",
    "print(phone)\n"
   ]
  },
  {
   "cell_type": "code",
   "execution_count": 10,
   "metadata": {},
   "outputs": [
    {
     "name": "stdout",
     "output_type": "stream",
     "text": [
      "samsung\n",
      "dict_keys(['brand', 'price', 'inch', 'color'])\n",
      "dict_values(['samsung', 10000, 24, 'white'])\n",
      "brand samsung\n",
      "price 10000\n",
      "inch 24\n",
      "color white\n"
     ]
    }
   ],
   "source": [
    "# 데이터 출력\n",
    "monitor ={\n",
    "  'brand': 'samsung',\n",
    "  'price' : 10000,\n",
    "  'inch': 24,\n",
    "  'color': 'white'\n",
    "}\n",
    "\n",
    "# 브랜드만 출력\n",
    "print(monitor['brand'])\n",
    "\n",
    "# 모든 키 값을 출력\n",
    "print(monitor.keys())\n",
    "\n",
    "# 모든 value 값을 출력\n",
    "print(monitor.values())\n",
    "\n",
    "# 반복문을 이용한 key 와 value를 출력\n",
    "for key in monitor.keys():\n",
    "  print(key, monitor[key])"
   ]
  },
  {
   "cell_type": "code",
   "execution_count": 13,
   "metadata": {},
   "outputs": [
    {
     "name": "stdout",
     "output_type": "stream",
     "text": [
      "game\n",
      "lee\n"
     ]
    }
   ],
   "source": [
    "intro = {\n",
    "  'name' : 'hong',\n",
    "  'age':20,\n",
    "  'hobby':['game', 'study'],\n",
    "  'family': {\n",
    "    'mother' :'lee',\n",
    "    'father' : 'hong'\n",
    "  }\n",
    "}\n",
    "\n",
    "# intro 데이터에 첫번째 취미 출력\n",
    "print(intro['hobby'][0])\n",
    "# 어머니의 이름을 출력\n",
    "print(intro['family']['mother'])"
   ]
  },
  {
   "cell_type": "code",
   "execution_count": 16,
   "metadata": {},
   "outputs": [
    {
     "name": "stdout",
     "output_type": "stream",
     "text": [
      "{'name': 'hong', 'korScore': 0, 'mathScore': 0}\n"
     ]
    }
   ],
   "source": [
    "# 아래의 데이터를 참고하여 문제 해결\n",
    "student = {\n",
    "  'name':'hong',\n",
    "  'korScore': 0,\n",
    "  'mathScore': 0\n",
    "}"
   ]
  },
  {
   "cell_type": "code",
   "execution_count": 20,
   "metadata": {},
   "outputs": [
    {
     "name": "stdout",
     "output_type": "stream",
     "text": [
      "{'name': 'hong', 'korScore': 40, 'mathScore': 50}\n",
      "{'name': 'hong', 'korScore': 30, 'mathScore': 40, 'totalScore': 70}\n"
     ]
    }
   ],
   "source": [
    "# 위에서 선언한 딕셔너리 데이터의 국어점수 및 수학점수를 키보드로 입력받은 데이터로 변경시킨다.\n",
    "# 국어점수와 수학점수가 변경되었다면 총점을 저장한다.\n",
    "# 총점의 키는 'totalScore'라고 지정\n",
    "print(student)\n",
    "\n",
    "student['korScore']=int(input('국어점수 : '))\n",
    "student['mathScore']=int(input('수학점수 : '))\n",
    "student['totalScore']=student['korScore']+student['mathScore']\n",
    "print(student)"
   ]
  }
 ],
 "metadata": {
  "kernelspec": {
   "display_name": "Python 3",
   "language": "python",
   "name": "python3"
  },
  "language_info": {
   "codemirror_mode": {
    "name": "ipython",
    "version": 3
   },
   "file_extension": ".py",
   "mimetype": "text/x-python",
   "name": "python",
   "nbconvert_exporter": "python",
   "pygments_lexer": "ipython3",
   "version": "3.12.5"
  }
 },
 "nbformat": 4,
 "nbformat_minor": 2
}
