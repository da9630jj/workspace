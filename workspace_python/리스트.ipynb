{
 "cells": [
  {
   "cell_type": "code",
   "execution_count": null,
   "metadata": {},
   "outputs": [],
   "source": [
    "# 리스트 변수 만들 때 변수명은 절대 list 사용 금지\n",
    "# 리스트 생성 \n",
    "list1 = []\n",
    "list2 = [1,2,3,'python']\n",
    "list3 = [1,2,[3,4,5],[6,7]]\n",
    "\n",
    "# 리스트의 요소에 접근 방법\n",
    "list[0]"
   ]
  },
  {
   "cell_type": "code",
   "execution_count": 3,
   "metadata": {},
   "outputs": [
    {
     "name": "stdout",
     "output_type": "stream",
     "text": [
      "5\n"
     ]
    }
   ],
   "source": [
    "list3 = [1,2,[3,4,5],[6,7]]\n",
    "\n",
    "# 위의 리스트에서 5만 출력\n",
    "print(list3[2][2])"
   ]
  },
  {
   "cell_type": "code",
   "execution_count": 6,
   "metadata": {},
   "outputs": [
    {
     "name": "stdout",
     "output_type": "stream",
     "text": [
      "[1, 2, '홍길동', [1, 2, 3]]\n"
     ]
    }
   ],
   "source": [
    "# 리스트에 데이터 추가\n",
    "\n",
    "# 빈 리스트 생성\n",
    "list1 = []\n",
    "\n",
    "# 데이터 추가\n",
    "# append() lsit의 마지막에 데이터 추가\n",
    "list1.append(1)\n",
    "list1.append(2)\n",
    "list1.append('홍길동')\n",
    "list1.append([1,2,3])\n",
    "\n",
    "# 데이터 출력\n",
    "print(list1)"
   ]
  },
  {
   "cell_type": "code",
   "execution_count": 9,
   "metadata": {},
   "outputs": [
    {
     "name": "stdout",
     "output_type": "stream",
     "text": [
      "[1, 5, 5, 2, '홍길동', [1, 2, 3]]\n"
     ]
    }
   ],
   "source": [
    "# 데이터 추가 두번째\n",
    "# insert(추가할 위치, 추가할 데이터)\n",
    "list1.insert(1, 5)\n",
    "print(list1)"
   ]
  },
  {
   "cell_type": "code",
   "execution_count": 11,
   "metadata": {},
   "outputs": [
    {
     "name": "stdout",
     "output_type": "stream",
     "text": [
      "삭제 전 데이터\n",
      "[1, 5, 5, 2, '홍길동', [1, 2, 3]]\n",
      "삭제 후 데이터\n",
      "[1, 5, 5, '홍길동', [1, 2, 3]]\n"
     ]
    }
   ],
   "source": [
    "# 리스트 데이터 삭제 1\n",
    "print('삭제 전 데이터')\n",
    "print(list1)\n",
    "\n",
    "# () 안의 데이터를 삭제\n",
    "list1.remove(2)\n",
    "\n",
    "print('삭제 후 데이터')\n",
    "print(list1)\n"
   ]
  },
  {
   "cell_type": "code",
   "execution_count": 12,
   "metadata": {},
   "outputs": [
    {
     "name": "stdout",
     "output_type": "stream",
     "text": [
      "[2, 'python', [1, 2, 3]]\n"
     ]
    }
   ],
   "source": [
    "# 리스트 데이터 삭제 2 (추천!)\n",
    "list4 = [1,2,'python', [1,2,3]]\n",
    "\n",
    "del list4[0]\n",
    "\n",
    "print(list4)"
   ]
  },
  {
   "cell_type": "code",
   "execution_count": 13,
   "metadata": {},
   "outputs": [],
   "source": [
    "# 삭제 시 주의\n",
    "# 아래 코드는 list4라는 리스트 자체를 삭제\n",
    "del list4"
   ]
  },
  {
   "cell_type": "code",
   "execution_count": 14,
   "metadata": {},
   "outputs": [
    {
     "name": "stdout",
     "output_type": "stream",
     "text": [
      "[1, 5, 3]\n"
     ]
    }
   ],
   "source": [
    "# 리스트 데이터 수정\n",
    "list5 = [1,2,3]\n",
    "list5[1] = 5\n",
    "print(list5)"
   ]
  },
  {
   "cell_type": "code",
   "execution_count": 16,
   "metadata": {},
   "outputs": [
    {
     "name": "stdout",
     "output_type": "stream",
     "text": [
      "[1, 2, 3, 4, 5]\n",
      "[1, 2, 3, 1, 2, 3]\n"
     ]
    }
   ],
   "source": [
    "# 리스트 합치기\n",
    "list6=[1,2,3]+[4,5]\n",
    "print(list6)\n",
    "\n",
    "list7=[1,2,3]*2\n",
    "print(list7)"
   ]
  },
  {
   "cell_type": "code",
   "execution_count": 19,
   "metadata": {},
   "outputs": [
    {
     "name": "stdout",
     "output_type": "stream",
     "text": [
      "[2, 3, 4]\n",
      "[2, 3, 4, 5]\n",
      "[1, 2, 3]\n",
      "[1, 2, 3, 4, 5]\n"
     ]
    }
   ],
   "source": [
    "# 리스트의 슬라이싱 : 리스트 데이터의 일부 추출\n",
    "list1 = [1,2,3,4,5]\n",
    "print(list1[1:4])\n",
    "print(list1[1:])\n",
    "print(list1[:3])\n",
    "print(list1[:])"
   ]
  },
  {
   "cell_type": "code",
   "execution_count": 20,
   "metadata": {},
   "outputs": [
    {
     "name": "stdout",
     "output_type": "stream",
     "text": [
      "[1, 5]\n"
     ]
    }
   ],
   "source": [
    "# 슬라이싱을 이용한 데이터 삭제\n",
    "list1=[1,2,3,4,5]\n",
    "del list1[1:4]\n",
    "print(list1)"
   ]
  },
  {
   "cell_type": "code",
   "execution_count": 21,
   "metadata": {},
   "outputs": [
    {
     "name": "stdout",
     "output_type": "stream",
     "text": [
      "[1, 7, 8, 4, 5]\n"
     ]
    }
   ],
   "source": [
    "# 슬라이싱을 이용한 데이터 수정\n",
    "list1=[1,2,3,4,5]\n",
    "list1[1:3]=[7,8]\n",
    "print(list1)"
   ]
  },
  {
   "cell_type": "code",
   "execution_count": 28,
   "metadata": {},
   "outputs": [
    {
     "name": "stdout",
     "output_type": "stream",
     "text": [
      "5\n",
      "[2, 3, 4]\n"
     ]
    }
   ],
   "source": [
    "# 리스트의 마지막 데이터를 알고 싶을 때 [-1] 사용\n",
    "list1=[1,2,3,4,5]\n",
    "print(list1[-1])\n",
    "print(list1[1:-1])"
   ]
  },
  {
   "cell_type": "code",
   "execution_count": 29,
   "metadata": {},
   "outputs": [
    {
     "name": "stdout",
     "output_type": "stream",
     "text": [
      "2\n"
     ]
    }
   ],
   "source": [
    "# 1. 키보드로 세 수를 입력받고, 입력받은 세 수를 리스트에 저장하시오. 그 후 리스트에 저장된 수 중 가장 큰 수와 가장 작은 수의 차를 출력하시오.\n",
    "list1=[]\n",
    "for i in range(3) :\n",
    "  num=int(input(f'{i+1}번째 정수 입력: '))\n",
    "  list1.append(num)\n",
    "answer = max(list1)-min(list1)\n",
    "print(answer)"
   ]
  },
  {
   "cell_type": "code",
   "execution_count": 34,
   "metadata": {},
   "outputs": [
    {
     "name": "stdout",
     "output_type": "stream",
     "text": [
      "p\n",
      "yth\n",
      "p y t h o n "
     ]
    }
   ],
   "source": [
    "# 문자열도 리스트다\n",
    "name='python'\n",
    "print(name[0])\n",
    "print(name[1:4])\n",
    "for i in name:\n",
    "  print(i, end=' ')\n"
   ]
  },
  {
   "cell_type": "code",
   "execution_count": 35,
   "metadata": {},
   "outputs": [
    {
     "name": "stdout",
     "output_type": "stream",
     "text": [
      "4\n"
     ]
    }
   ],
   "source": [
    "# 아래 리스트에서 저장된 문자열에서 'r' 이라는 알파벳의 갯수를 출력\n",
    "strList=['father', 'mother', 'brother']\n",
    "\n",
    "cnt=0\n",
    "for i in strList:\n",
    "  for e in i :\n",
    "    if e =='r' :\n",
    "      cnt=cnt+1\n",
    "print(cnt)"
   ]
  }
 ],
 "metadata": {
  "kernelspec": {
   "display_name": "Python 3",
   "language": "python",
   "name": "python3"
  },
  "language_info": {
   "codemirror_mode": {
    "name": "ipython",
    "version": 3
   },
   "file_extension": ".py",
   "mimetype": "text/x-python",
   "name": "python",
   "nbconvert_exporter": "python",
   "pygments_lexer": "ipython3",
   "version": "3.12.5"
  }
 },
 "nbformat": 4,
 "nbformat_minor": 2
}
