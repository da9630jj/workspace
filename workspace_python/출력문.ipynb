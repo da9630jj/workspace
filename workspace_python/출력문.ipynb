{
 "cells": [
  {
   "cell_type": "markdown",
   "metadata": {},
   "source": [
    "### jupyter 단축키\n",
    "* y : 코드를 실행할 수 있는 cell로 변환\n",
    "* m : 마크다운을 쓸 수 있는 cell로 변환\n",
    "* Ctrl + enter :  cell 실행\n",
    "* Ctrl + space :  코드 자동완성\n",
    "* a : 현재 cell의 위에 하나의 cell 추가\n",
    "* b : 현재 cell의 아래에 하나의 cell 추가\n",
    "* dd : 현재 cell 삭제"
   ]
  },
  {
   "cell_type": "markdown",
   "metadata": {},
   "source": [
    "### 1. 파이썬에서의 출력문"
   ]
  },
  {
   "cell_type": "code",
   "execution_count": null,
   "metadata": {},
   "outputs": [],
   "source": [
    "# 파이썬에서 출력할 때는 print() 함수 사용\n",
    "# () 안의 내용을 출력\n",
    "# 파이썬에서 문자열을 출력할 때는 홀따옴표나 쌍따옴표로 감싼다.\n",
    "print(10)\n",
    "print('pyton')\n",
    "print(\"python\")\n"
   ]
  },
  {
   "cell_type": "code",
   "execution_count": null,
   "metadata": {},
   "outputs": [],
   "source": [
    "# 출력문 안의 연산식은 연산결과를 출력\n",
    "print(5+4)\n",
    "print(10/4)\n",
    "print(10//4) # 나눗셈의 몫\n",
    "print(10%3) # 나눗셈의 나머지"
   ]
  },
  {
   "cell_type": "code",
   "execution_count": null,
   "metadata": {},
   "outputs": [],
   "source": [
    "# 문자열 출력\n",
    "print('python' + 'java')\n",
    "# print('python' + 5) 문자열과 숫자는 더하기 X\n"
   ]
  },
  {
   "cell_type": "code",
   "execution_count": 11,
   "metadata": {},
   "outputs": [
    {
     "name": "stdout",
     "output_type": "stream",
     "text": [
      "10 20 python java\n"
     ]
    }
   ],
   "source": [
    "# 파이썬 만의 문법\n",
    "print(10,20,'python','java')"
   ]
  },
  {
   "cell_type": "code",
   "execution_count": 1,
   "metadata": {},
   "outputs": [
    {
     "name": "stdout",
     "output_type": "stream",
     "text": [
      "python python "
     ]
    }
   ],
   "source": [
    "# print() 함수의 end 매개변수의 값을 변경해서 출력 후 실행 할 내용을 변경\n",
    "print('python',end=' ')\n",
    "print('python',end=' ')"
   ]
  }
 ],
 "metadata": {
  "kernelspec": {
   "display_name": "Python 3",
   "language": "python",
   "name": "python3"
  },
  "language_info": {
   "codemirror_mode": {
    "name": "ipython",
    "version": 3
   },
   "file_extension": ".py",
   "mimetype": "text/x-python",
   "name": "python",
   "nbconvert_exporter": "python",
   "pygments_lexer": "ipython3",
   "version": "3.12.5"
  }
 },
 "nbformat": 4,
 "nbformat_minor": 2
}
