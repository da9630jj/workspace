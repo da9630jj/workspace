{
 "cells": [
  {
   "cell_type": "code",
   "execution_count": 2,
   "metadata": {},
   "outputs": [
    {
     "name": "stdout",
     "output_type": "stream",
     "text": [
      "입력받은 수는 20입니다.\n"
     ]
    }
   ],
   "source": [
    "# 키보드로 입력받기\n",
    "# input() 함수 사용으로 키보드로 값을 입력받을 수 있다.\n",
    "# input() 함수를 사용하여 키보드로 입력받은 값을 문자열로 인식\n",
    "# 문자열 -> 정수 : int()\n",
    "num = input('숫자를 입력하세요. : ')\n",
    "print(f'입력받은 수는 {num}입니다.')"
   ]
  },
  {
   "cell_type": "code",
   "execution_count": 8,
   "metadata": {},
   "outputs": [
    {
     "name": "stdout",
     "output_type": "stream",
     "text": [
      "110\n"
     ]
    }
   ],
   "source": [
    "# 문자열을 정수로 반환\n",
    "result1=int('10')\n",
    "result2=int('100')\n",
    "print(result1+result2)"
   ]
  },
  {
   "cell_type": "code",
   "execution_count": 9,
   "metadata": {},
   "outputs": [
    {
     "name": "stdout",
     "output_type": "stream",
     "text": [
      "두 정수의 합은 5입니다.\n"
     ]
    }
   ],
   "source": [
    "# 두 정수를 입력받아 두 정수의 합을 출력\n",
    "num1 = int(input('첫번째 정수 입력: '))\n",
    "num2 = int(input('첫번째 정수 입력: '))\n",
    "print(f'두 정수의 합은 {num1+num2}입니다.')"
   ]
  },
  {
   "cell_type": "code",
   "execution_count": 11,
   "metadata": {},
   "outputs": [
    {
     "name": "stdout",
     "output_type": "stream",
     "text": [
      "이름: java, 국어점수: 3, 영어점수: 3, 수학점수: 3, 총점: 9, 평균:3.0\n"
     ]
    }
   ],
   "source": [
    "# 키보드로 학생의 이름, 국어점수, 영어점수, 수학점수를 입력받아 입력받은 \n",
    "# 학생의 이름, 국어점수, 영어점수, 수학점수 및 총점과 평균 출력\n",
    "name = input('이름 입력: ')\n",
    "korScore = int(input('국어점수 :'))\n",
    "engScore = int(input('영어점수 :'))\n",
    "mathScore = int(input('수학점수 :'))\n",
    "\n",
    "totalScore=korScore+engScore+mathScore\n",
    "print(f'이름: {name}, 국어점수: {korScore}, 영어점수: {engScore}, 수학점수: {mathScore}, 총점: {totalScore}, 평균:{totalScore/3}')"
   ]
  }
 ],
 "metadata": {
  "kernelspec": {
   "display_name": "Python 3",
   "language": "python",
   "name": "python3"
  },
  "language_info": {
   "codemirror_mode": {
    "name": "ipython",
    "version": 3
   },
   "file_extension": ".py",
   "mimetype": "text/x-python",
   "name": "python",
   "nbconvert_exporter": "python",
   "pygments_lexer": "ipython3",
   "version": "3.12.5"
  }
 },
 "nbformat": 4,
 "nbformat_minor": 2
}
